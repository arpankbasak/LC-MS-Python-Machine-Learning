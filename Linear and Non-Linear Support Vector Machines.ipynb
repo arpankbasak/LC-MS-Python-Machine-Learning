{
 "cells": [
  {
   "cell_type": "markdown",
   "metadata": {},
   "source": [
    "** A Support Vector Machine / Network is a discrimininative classifier formally defined by a seperating hyperplane. Given a labeled training dataset, the algorithm outputs an optimal hyperplane which categorizes new examples. Support Vectors try to fit the largest possible margin between the support vectors**"
   ]
  },
  {
   "attachments": {
    "download.png": {
     "image/png": "[encoded data removed]"
    }
   },
   "cell_type": "markdown",
   "metadata": {},
   "source": [
    "![download.png](attachment:download.png)"
   ]
  },
  {
   "cell_type": "markdown",
   "metadata": {},
   "source": [
    "**Soft Margin Classification** - *is a balance between keeping the margin as large as possible whilst limiting the margin violations. Unlike Logistic Regression Classifiers, SVM classifiers do not output probabilities for each class* "
   ]
  },
  {
   "cell_type": "code",
   "execution_count": 1,
   "metadata": {
    "collapsed": true
   },
   "outputs": [],
   "source": [
    "import warnings; warnings.simplefilter(\"ignore\")\n",
    "#importing important libraries\n",
    "%matplotlib inline\n",
    "import matplotlib.pyplot as plt\n",
    "import seaborn as sns\n",
    "import numpy as np\n",
    "import pandas as pd\n",
    "import scipy.stats as stats\n",
    "import statsmodels.formula.api as  sm\n",
    "from statsmodels.formula.api import ols\n",
    "from statsmodels.stats.anova import anova_lm\n",
    "import csv\n",
    "from sklearn.decomposition import PCA\n",
    "from sklearn.preprocessing import StandardScaler, LabelEncoder\n",
    "\n",
    "from sklearn.linear_model import LogisticRegression\n",
    "from sklearn.svm import SVC\n",
    "from sklearn.neighbors import KNeighborsClassifier\n",
    "from sklearn import tree\n",
    "from sklearn.neural_network import MLPClassifier\n",
    "from sklearn.neighbors import KNeighborsClassifier\n",
    "from sklearn.ensemble import GradientBoostingClassifier\n",
    "from sklearn.gaussian_process.kernels import RBF\n",
    "from sklearn.ensemble import RandomForestClassifier\n",
    "from sklearn.naive_bayes import GaussianNB"
   ]
  },
  {
   "cell_type": "code",
   "execution_count": 2,
   "metadata": {
    "collapsed": true
   },
   "outputs": [],
   "source": [
    "# datafile upload and data preparation\n",
    "df = pd.read_csv(\"diffreport2.csv\", sep= \",\")\n",
    "\n",
    "d1 = df.drop(\"name\", axis = 1)\n",
    "d2 = d1.drop(\"isotopes\", axis = 1)\n",
    "d3 = d2.drop(\"adduct\", axis = 1)\n",
    "d4 = d3.drop(\"tstat\", axis = 1)\n",
    "d5 = d4.drop(\"pvalue\", axis = 1)\n",
    "d6 = d5.drop(\"fold\", axis = 1)\n",
    "d7 = d6.drop(d6.columns[0], axis = 1)\n",
    "d8 = d7.drop(\"npeaks\", axis = 1)\n",
    "d9 = d8.drop(\"Eta6\", axis = 1)\n",
    "d10 = d9.drop(\"Eta8\", axis = 1)\n",
    "columns = ['Eta6_0', 'Eta6_2', 'Eta6_3', 'Eta8.1', 'Eta82', 'Eta83', 'ID']\n",
    "df1 = pd.DataFrame(d10, columns = columns)"
   ]
  },
  {
   "cell_type": "code",
   "execution_count": 3,
   "metadata": {
    "collapsed": true
   },
   "outputs": [],
   "source": [
    "# creation of train and testing sets\n",
    "\n",
    "def get_train_test(df, y_col, x_cols, ratio):\n",
    "\n",
    "    mask = np.random.rand(len(df)) > ratio\n",
    "    df_train = df[mask]\n",
    "    df_test = df[~mask]\n",
    "       \n",
    "    Y_train = df_train[y_col].values\n",
    "    Y_test = df_test[y_col].values\n",
    "    X_train = df_train[x_cols].values\n",
    "    X_test = df_test[x_cols].values\n",
    "    return df_train, df_test, X_train, Y_train, X_test, Y_test\n",
    " \n",
    "y_col = 'ID'\n",
    "x_cols = list(df1.columns.values)\n",
    "x_cols.remove(y_col)\n",
    " \n",
    "train_test_ratio = 0.7\n",
    "df_train, df_test, X_train, Y_train, X_test, Y_test = get_train_test(df1, y_col, x_cols, train_test_ratio)"
   ]
  },
  {
   "cell_type": "code",
   "execution_count": 5,
   "metadata": {},
   "outputs": [
    {
     "data": {
      "text/plain": [
       "Pipeline(memory=None,\n",
       "     steps=[('scaler', StandardScaler(copy=True, with_mean=True, with_std=True)), ('linear_scv', LinearSVC(C=1, class_weight=None, dual=True, fit_intercept=True,\n",
       "     intercept_scaling=1, loss='hinge', max_iter=1000, multi_class='ovr',\n",
       "     penalty='l2', random_state=None, tol=0.0001, verbose=0))])"
      ]
     },
     "execution_count": 5,
     "metadata": {},
     "output_type": "execute_result"
    }
   ],
   "source": [
    "import numpy as np\n",
    "from sklearn import datasets\n",
    "from sklearn.pipeline import Pipeline\n",
    "from sklearn.preprocessing import StandardScaler\n",
    "from sklearn.svm import LinearSVC\n",
    "\n",
    "svm_clf = Pipeline(((\"scaler\", StandardScaler()), \n",
    "                   (\"linear_scv\", LinearSVC(C = 1, loss = \"hinge\")),\n",
    "                   ))\n",
    "svm_clf.fit(X_train,Y_train)"
   ]
  },
  {
   "cell_type": "markdown",
   "metadata": {},
   "source": [
    "## Non-Linear Support Vector Machine Classification\n"
   ]
  },
  {
   "cell_type": "markdown",
   "metadata": {},
   "source": [
    "**Polynomial Feature Addition** -*one approach to handling nonlinear datasets is to add more features and this will result in  linearly seperable dataset. At low polynomial degree, implementation of polynomial features fails to handle complex datasets and with large polynomial degree, it creates a high number of features that make the model too slow*"
   ]
  },
  {
   "cell_type": "code",
   "execution_count": 8,
   "metadata": {},
   "outputs": [
    {
     "data": {
      "text/plain": [
       "Pipeline(memory=None,\n",
       "     steps=[('poly_features', PolynomialFeatures(degree=3, include_bias=True, interaction_only=False)), ('scaler', StandardScaler(copy=True, with_mean=True, with_std=True)), ('svm_clf', LinearSVC(C=10, class_weight=None, dual=True, fit_intercept=True,\n",
       "     intercept_scaling=1, loss='hinge', max_iter=1000, multi_class='ovr',\n",
       "     penalty='l2', random_state=None, tol=0.0001, verbose=0))])"
      ]
     },
     "execution_count": 8,
     "metadata": {},
     "output_type": "execute_result"
    }
   ],
   "source": [
    "from sklearn.datasets import make_moons\n",
    "from sklearn.pipeline import Pipeline\n",
    "from sklearn.preprocessing import PolynomialFeatures\n",
    "\n",
    "polynomial_svm_clf = Pipeline((\n",
    "                            (\"poly_features\", PolynomialFeatures(degree = 3)),\n",
    "                            (\"scaler\", StandardScaler()),\n",
    "                             (\"svm_clf\", LinearSVC(C = 10, loss = \"hinge\"))\n",
    "))\n",
    "\n",
    "polynomial_svm_clf.fit(X_train,Y_train)"
   ]
  },
  {
   "cell_type": "markdown",
   "metadata": {},
   "source": [
    "**Kernel Trick** - *is a method that avoids the explicit mapping that is needed to get linear learning algorithms to learn a nonlinear function or decision boundary, making it possible to get the same result as if one had added polynomial features.There is no combinatorial explosion of features since one does not add any features*"
   ]
  },
  {
   "cell_type": "code",
   "execution_count": 11,
   "metadata": {},
   "outputs": [
    {
     "data": {
      "text/plain": [
       "Pipeline(memory=None,\n",
       "     steps=[('scaler', StandardScaler(copy=True, with_mean=True, with_std=True)), ('svm_clf', SVC(C=5, cache_size=200, class_weight=None, coef0=1,\n",
       "  decision_function_shape='ovr', degree=3, gamma='auto', kernel='poly',\n",
       "  max_iter=-1, probability=False, random_state=None, shrinking=True,\n",
       "  tol=0.001, verbose=False))])"
      ]
     },
     "execution_count": 11,
     "metadata": {},
     "output_type": "execute_result"
    }
   ],
   "source": [
    "from sklearn.svm import SVC\n",
    "\n",
    "poly_kernel_svm_clf = Pipeline((\n",
    "(\"scaler\", StandardScaler()),\n",
    " (\"svm_clf\", SVC(kernel = \"poly\", degree = 3, coef0=1, C = 5))\n",
    "))\n",
    "poly_kernel_svm_clf.fit(X_train,Y_train)"
   ]
  },
  {
   "cell_type": "markdown",
   "metadata": {},
   "source": [
    "**Similarity Feature** - *is based on a similarity function and it measures how much each instance resembles a particular landmark* *Defined below is the* **Gaussian Radial Bias Function**\n",
    "\n",
    "$$\\phi\\gamma(x, l) = exp(-\\gamma\\lvert\\lvert x-l \\rvert \\rvert ^2) $$"
   ]
  },
  {
   "cell_type": "code",
   "execution_count": 10,
   "metadata": {},
   "outputs": [
    {
     "data": {
      "text/plain": [
       "Pipeline(memory=None,\n",
       "     steps=[('scaler', StandardScaler(copy=True, with_mean=True, with_std=True)), ('svm_clf', SVC(C=0.001, cache_size=200, class_weight=None, coef0=0.0,\n",
       "  decision_function_shape='ovr', degree=3, gamma=5, kernel='rbf',\n",
       "  max_iter=-1, probability=False, random_state=None, shrinking=True,\n",
       "  tol=0.001, verbose=False))])"
      ]
     },
     "execution_count": 10,
     "metadata": {},
     "output_type": "execute_result"
    }
   ],
   "source": [
    "rbf_kernel_svm_clf = Pipeline((\n",
    "    (\"scaler\", StandardScaler()),\n",
    "    (\"svm_clf\", SVC(kernel = \"rbf\", gamma = 5, C = 0.001)) # gamma is the regularization hyperparameter\n",
    "))\n",
    "rbf_kernel_svm_clf.fit(X_train,Y_train)"
   ]
  },
  {
   "cell_type": "markdown",
   "metadata": {},
   "source": [
    "**SVM Regression** - *in this instance, the objective is reversed, instead of trying to fit the largest possible margin between two classes whilst limiting margin violations, the method tries to fit as many instances as possible in the margin whilst limiting margin  violations(instances that are not in the margin)*"
   ]
  },
  {
   "cell_type": "code",
   "execution_count": 9,
   "metadata": {},
   "outputs": [
    {
     "data": {
      "text/plain": [
       "LinearSVR(C=1.0, dual=True, epsilon=1.5, fit_intercept=True,\n",
       "     intercept_scaling=1.0, loss='epsilon_insensitive', max_iter=1000,\n",
       "     random_state=None, tol=0.0001, verbose=0)"
      ]
     },
     "execution_count": 9,
     "metadata": {},
     "output_type": "execute_result"
    }
   ],
   "source": [
    "from sklearn.svm import LinearSVR\n",
    "\n",
    "svm_reg= LinearSVR(epsilon = 1.5)\n",
    "svm_reg.fit(X_train,Y_train)"
   ]
  },
  {
   "cell_type": "markdown",
   "metadata": {},
   "source": [
    "**Decision Function and Predictions** *Linear SVM classifier model predicts the class of a new instance x by simply computing the decision function as shown*\n",
    "\n",
    "$$ \\hat{y} = \\begin {cases} 0, & \\text {if}\\ w^T * x + b < 0 \\\\ 1, & \\text {if} \\  w^T* x + b >= 0 \\end {cases}$$\n",
    "\n",
    "*The hard margin linear SVM Classifier objective can be expressed as a constrained optimization problem*\n",
    "\n",
    "*minimize *                    $$ \\frac{1}{2}w ^ T * w $$\n",
    "\n",
    "*The soft margin linear SVM Classifier objective is given as*\n",
    "*minimize*                     $$ \\frac{1}{2}w^T * w + C\\sum_{i = 1} ^{m}\\zeta ^{(i)}$$"
   ]
  },
  {
   "cell_type": "markdown",
   "metadata": {},
   "source": [
    "*Hard margin and soft margin problems are both convex quadratic optimization problems with linear constraints(Quadratic Programming Problems). The general quadratic programming problem is given by *\n",
    "\n",
    "$$ \\frac{1}{2}p^ T*H* p + f^T * p $$\n",
    "\n",
    "Given a constrained optimization problem, known as the **primal problem**, it is possible to express a different but closely related problem, called its **dual problem**, which under some conditions, can have the same solutions or the upper bounds of the solution as the primal problem.\n",
    "*Dual solution to the primal solution*\n",
    "\n",
    "$$ \\hat{w} = \\sum_{i = 1}^{m}  \\hat{ \\alpha} t ^{(i)} x^{(i)} $$\n",
    "\n",
    "*The dual problem is faster is to solve than the primal when the number of training instances is smaller than the number of features*\n",
    "\n",
    "List of commonly used kernels\n",
    "\n",
    "** Linear Kernel**\n",
    "**Polynomial Kernel**\n",
    "**Gaussian RBF**\n",
    "**Sigmoid**\n",
    "\n",
    "**Mercer's Theorem** - *If a function $K(a,b)$ respects a few mathematical conditions called Mercer's conditions (K must be continous, symmetric in its arguments so $K(a,b) = K(b,a)$, then there exists a function $\\phi$ that maps **a** and **b** into another space, possibly with higher dimensions, such that $K(a, b) = \\phi(a)^T*\\phi(b)$\n",
    "\n",
    "*For linear SVM classifiers, one method is to use Gradient Descent to minimize the cost function which is derived from the primal problem but unfortunately, converges more slowly than the other methods based on QP *\n",
    "\n",
    "**Linear SVM classifier cost function**\n",
    "\n",
    "$$ j(w, b) = \\frac{1}{2}w^T * w +C \\sum_{i= 1}^{m} max(0,1 -t^{(i)}(w^T * x^{(i)} + b)) $$\n",
    "\n",
    "*with $max(0, 1-t)$ being the hinge loss function*"
   ]
  }
 ],
 "metadata": {
  "kernelspec": {
   "display_name": "Python 3",
   "language": "python",
   "name": "python3"
  },
  "language_info": {
   "codemirror_mode": {
    "name": "ipython",
    "version": 3
   },
   "file_extension": ".py",
   "mimetype": "text/x-python",
   "name": "python",
   "nbconvert_exporter": "python",
   "pygments_lexer": "ipython3",
   "version": "3.6.3"
  }
 },
 "nbformat": 4,
 "nbformat_minor": 2
}

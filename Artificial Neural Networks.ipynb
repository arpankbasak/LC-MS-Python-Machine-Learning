{
 "cells": [
  {
   "attachments": {
    "image002.jpg": {
     "image/jpeg": "[encoded data removed]"
    }
   },
   "cell_type": "markdown",
   "metadata": {},
   "source": [
    "An Artificial Neural Network is a computational modelling tool that is comprised of densely interconnected adaptive simple processing elements that are capable of performing massively parallel computations for data processing and knowledge representation (Hecht-Nielsen, 1990).\n",
    "\n",
    "![image002.jpg](attachment:image002.jpg)"
   ]
  },
  {
   "cell_type": "markdown",
   "metadata": {},
   "source": [
    "## Perceptron"
   ]
  },
  {
   "cell_type": "markdown",
   "metadata": {},
   "source": [
    "Perceptron is a a single layer artifical network with only one neuron based on an Linear Threshold Unit(i.e the inputs and outputs are numbers and each input is associated with a weight). The Perceptron is a newtork in which the neuron unit calculates the linear combination of its real valued or boolean inputs and passes it through a threshold activation function.\n",
    "\n",
    "Both biological and ANN learn by incrementally adjusting the magnitudes of the weights or synapse's strengths.\n",
    "\n",
    "Hebbian Learning -a synapse between two neurons is strengthened when the neurons on either side of the synapse (input and output) have highly correlated outputs.When an input neuron fires and it frequently leads to the firing of the output neuron, the synapse is strengthened  and the connection weight is increased with high correlation  between sequential neurons.\n",
    "\n",
    "An ANN is said to have learnt if it can:\n",
    "- handle imprecise, fuzzy , noisy and probabilistic information without noticeable adverse effect on the response quality\n",
    "- generalize from the tasks it has learned to unknown ones\n",
    "\n",
    "\n",
    "*Perceptron Learning Rule*\n",
    "$$ w_{i,j}^{next step} = w_{i,j} + \\eta (y_j - \\hat{y}_j)x_i$$\n",
    "\n",
    "The decision boundary of each output neuron is linear, that means perceptrons are incapable of learning complex patterns, but can easily converge for linearly seperable instances. (Perceptron Convergence Theorem).Perceptrons do not output a class probability, rather, they make predictions based on hard thresholds.\n",
    "\n",
    "Scikit learn perceptron is equivalent to using a SGDClassifier with the following hyperparameters:loss = \"perceptron\", learning_rate = \"constant\", eta0= 1, penalty = None"
   ]
  },
  {
   "cell_type": "code",
   "execution_count": null,
   "metadata": {
    "collapsed": true
   },
   "outputs": [],
   "source": [
    "import numpy as np\n",
    "from sklearn.datasets import load_iris\n",
    "from sklearn.linear_model import Perceptron\n",
    "\n",
    "iris = load_iris()\n",
    "X = iris.data[:, (2, 3)]  # petal length, petal width\n",
    "y = (iris.target== 0).astype(np.int)\n",
    "per_clf = Perceptron(random_state = 42)\n",
    "per_clf.fit(X,y)\n",
    "\n",
    "y_pred = per_clf.predict([2, 0.5])"
   ]
  },
  {
   "cell_type": "markdown",
   "metadata": {},
   "source": [
    "## Multi-Layer Perceptron and Backpropagation"
   ]
  },
  {
   "cell_type": "markdown",
   "metadata": {},
   "source": [
    "An MLP is composed of one (passthrough) input layer,one or more years of LTUs (hidden layers) and one final layer of LTUs called the output layer. Every layer except the output layer includes a bias neuron and is fully connected to the next layer. An ANN with two or more hidden layers is called a deep neural network.\n",
    "\n",
    "**Feed Forward Error Back Propagation** - the forward sweep involves presenting the network with one training example. Each input node transmits a value to each hidden node and a summation is performed by the dot product of all values of input nodes and their corresponding interconnection weights. The activations calculated at the output nodes represent the solution of the fed example which may deviate from the target solution. In the backsweep, the network computes howmuch each neuron in the last hidden layer contributed to each output neuron's error until the input layer, measuring the error gradient across all connection weights in the network. The last step of the backpropagation  algorithm is a Gradient Step on all the connection weights in the network using the error gradients.\n",
    "\n",
    "*Consider an MLP with L interlayers, it has the following neuron dynamics*\n",
    "$$ \\xi_j ^{l} = \\sum\\limits_{i = 1} ^{N_{l-1}} w_{ji}^{l}x_{i}^{l-1}$$\n",
    "\n",
    "*The corresponding activation $x_{j}^{i}$ of the neuron is determined using a transfer function $\\sigma$ that converts the total signal into real number from a bounded interval\n",
    "\n",
    "$$ x_{j}^{l}=\\sigma(\\xi_j ^{l}) = \\sigma (\\sum\\limits_{i = 1} ^{N_{l-1}} w_{ji}^{l}x_{i}^{l-1})$$\n",
    "\n",
    "Popular functions used in the back propagation algorithm are:\n",
    "\n",
    "Hyperbolic tangent function   $$ tanh z = \\frac{sinh z}{cos z}$$\n",
    "\n",
    "Rectifier function   $$ f(x) = log(1 + exp x) $$\n",
    "\n",
    "Logistic Function    $$ \\sigma(\\xi) = \\frac{1}{1+ exp ^{-\\xi}} $$\n",
    "\n"
   ]
  },
  {
   "cell_type": "markdown",
   "metadata": {},
   "source": [
    "## Training an MLP with TensorFlow"
   ]
  },
  {
   "cell_type": "code",
   "execution_count": null,
   "metadata": {
    "collapsed": true
   },
   "outputs": [],
   "source": [
    "import tensorflow as tf\n",
    "feature_cols = tf.contrib.learn.infer_real_valued_columns_from_input(X_train)\n",
    "dnn_clf = tf.contrib.learn.DNNClassifier(hidden_units = [300, 100], n_classes = 10, feature_columns = feature_cols)\n",
    "dnn_clf = tf.contrib.learn.SKCompat(dnn_clf)\n",
    "dnn_clf.fit(X_train, y_train, batch_size= 50, steps = 40000)"
   ]
  },
  {
   "cell_type": "markdown",
   "metadata": {},
   "source": [
    "## Training a DNN Using Plain TensorFlow"
   ]
  },
  {
   "cell_type": "code",
   "execution_count": null,
   "metadata": {
    "collapsed": true
   },
   "outputs": [],
   "source": [
    "#Construction Phase\n",
    "\n",
    "import tensorflow as tf\n",
    "\n",
    "n_inputs = 28 * 28\n",
    "n_hidden1 = 300\n",
    "n_hidden2= 100\n",
    "n_outputs = 10\n",
    "\n",
    "X = tf.placeholder(tf.float32, shape = (None, n_inputs), name = \"X\")  # acts as the input layer\n",
    "y = tf.placeholder(tf.int64, shape = (None), name = \"y\")\n",
    "\n",
    "# creating an actual neuron layer\n",
    "\n",
    "def neuron_layer (X, n_neurons, name, activation = None):\n",
    "    with tf.name_scope(name):\n",
    "        n_inputs = int(X.get_shape()[1])    # get number of inputs by looking up the input matrix's shape\n",
    "        stddev = 2/np.sqrt(n_inputs)\n",
    "        init = tf.truncated_normal((n_inputs, n_neurons), stddev = stddev)\n",
    "        W = tf.Variable(init, name = \"kernel\")    # variable that holds weight matrix\n",
    "        b = tf.Variable(tf.zeros([n_neurons]), name = \"bias\") # b variable for bias\n",
    "        z = tf.matmul(X, W) + b # subgraph to compute the weighted sums of the inputs plus the bias term\n",
    "        if activation is not None:\n",
    "            return activation(Z)    # tf.nn.relu is an example of an activation parameter\n",
    "        else:\n",
    "            return Z   # code returns activation or just\n",
    "\n",
    "#creating a deep neural network\n",
    "\n",
    "with tf.name_scope(\"dnn\"):\n",
    "    hidden1 = neuron_layer(X, n_hidden1, name = \"hidden1\", activation = tf.nn.relu)\n",
    "    hidden2 = neuron_layer(X, n_hidden2, name = \"hidden2\", activation = tf.nn.relu)\n",
    "    hidden3 = neuron_layer(X, n_hidden3, name = \"hidden3\", activation = tf.nn.relu)\n",
    "    logits = neuron_layer(hidden2, n_outputs, name = \"outputs\")\n",
    "\n",
    "#alternative method to creating ann\n",
    "\n",
    "with tf.name_scope(\"dnn\"):\n",
    "    hidden1 = tf.layers.dense(X, n_hidden1, name = \"hidden1\", activation = tf.nn.relu)\n",
    "    hidden2 = tf.layers.dense(X, n_hidden2, name = \"hidden2\", activation = tf.nn.relu)\n",
    "    logits = tf.layers.dense(hidden2,n_outputs, name = \"outputs\")\n",
    "\n",
    "#using cross entropy to calculate cost function and to train model\n",
    "\n",
    "with tf.name_scope(\"loss\"):\n",
    "    xentropy = tf.nn.space_softmax_cross_entropy_with_logics(labels = y, logits = logits)\n",
    "    loss = tf.reduce_mean(xentropy, name = \"loss\")\n",
    "    \n",
    "#defining a Gradient Descent Optimizer to tweak the model parameters to minimize the cost function\n",
    "\n",
    "learning_rate = 0.01\n",
    "\n",
    "with tf.name_scope(\"train\"):\n",
    "    optimizer = tf.train.GradientDescentOptimizer(learning_rate)\n",
    "    training_op = optimizer.minimize(loss)\n",
    "\n",
    "#specifying how to evaluate the model\n",
    "\n",
    "with tf.name_scope(\"eval\"):\n",
    "    correct = tf.nn.in_top_k(logits, y, 1)\n",
    "    accuracy = tf.reduce_mean(tf.cast(correct, tf.float32))\n",
    "\n",
    "# a model to initialise all the variables\n",
    "init = tf.global_variables_initializer()\n",
    "saver = tf.train.Saver()\n",
    "\n",
    "# Execution Phase\n",
    "\n",
    "from tensorflow.examples.tutorials.mnist import input_data\n",
    "mnist = input_data.read_data_sets(\"/tmp/data/\")\n",
    "\n",
    "# define the number of epochs and mini batches\n",
    "n_epochs = 40\n",
    "batch_size = 50\n",
    "\n",
    "# training the model:\n",
    "\n",
    "with tf.Session() as sess:\n",
    "    init.run()\n",
    "    for epoch in range(n_epochs):\n",
    "        for iteration in range (mnist.train.num_examples // batch_size):\n",
    "            X_batch, y_batch = mnist.train.next_batch(batch_size)\n",
    "            sess.run(training_op, feed_dict = {X:X_batch, y:y_batch})\n",
    "            acc_train= accuracy.eval(feed_dict={X:X_batch, y:y_batch})\n",
    "            acc_test = accuracy.eval(feed_dict={X:mnist.test.images,\n",
    "                                               y:mnist.test.labels})\n",
    "            print(epoch, \"Train accuracy:\", acc_train, \"Test accuracy:\", acc_test)\n",
    "        \n",
    "        save_path = saver.save(sess, \"./my_model_final.ckpt\")\n",
    "        \n",
    "# using the neural network\n",
    "\n",
    "with tf.Session() as sess:\n",
    "    saver.restore(sess, \"./my_model_final.ckpt\")\n",
    "    X_new_scaled = []\n",
    "    Z = logits.eval(feed_dict = {X:X_new_scaled})\n",
    "    y_pred = np.argmax(Z, axis = 1)"
   ]
  },
  {
   "cell_type": "markdown",
   "metadata": {},
   "source": [
    "## Neural Network Hyperparameters "
   ]
  },
  {
   "cell_type": "markdown",
   "metadata": {},
   "source": [
    "There are too many ways in which one can tweak the hyperparameters of a neural network that include network topology, number of layers, number of neurons per layer, type of activation function, weight initialization logic, cross validation and grid search to name just but a few.\n",
    "\n",
    "Any MLP can model even the most complex functions provided it has enough neurons but deep networks have a higher parameter efficiency and can model complex functions using exponentially fewer neurons, making them faster to train.Deep Neural Networks have hierarchical architecture which helps them converge faster at a solution: lower hidden layers model low level structures, intermediate hidden layers combine these low level structures to model intermediate level structures and the highest hidden layers and the output layers combine these intermediate structures to model high level structures.\n",
    "\n",
    "The rectifier linear unit activation function is ideal for hidden layers as it is faster to compute and for the output layer, the softmax activation function is generally a good choice for classification tasks."
   ]
  }
 ],
 "metadata": {
  "kernelspec": {
   "display_name": "Python 3",
   "language": "python",
   "name": "python3"
  },
  "language_info": {
   "codemirror_mode": {
    "name": "ipython",
    "version": 3
   },
   "file_extension": ".py",
   "mimetype": "text/x-python",
   "name": "python",
   "nbconvert_exporter": "python",
   "pygments_lexer": "ipython3",
   "version": "3.6.3"
  }
 },
 "nbformat": 4,
 "nbformat_minor": 2
}

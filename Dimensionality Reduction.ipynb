{
 "cells": [
  {
   "cell_type": "markdown",
   "metadata": {},
   "source": [
    "In numerous problems, the measured data vectors are high dimensional and there are reasons to assume that the data lie near a lower dimensional manifold. High dimensional data is regarded are regarded as multiple, indirect measurements of an underlying source which cannot be directly measured. Learning a suitable low dimensional manifold from high dimensional data is essentially the same as learning this underlying source.\n",
    "\n",
    "**Dimensionality reduction**- also known as manifold learning is a process of deriving a set of degrees of freedom which can be used to reproduce most of the variability of the data set.\n",
    "\n",
    "Manifold learning/ Data dimensionality reduction techniques are used primarily for :\n",
    "\n",
    "- Data Dimensionality reduction : Producing a compact low dimensional encoding of a given high dimensional dataset\n",
    "\n",
    "- Data Visualization : providing an interpretation of a given data set in terms of intrinsic degree of freedom, usually as a byproduct of data dimensionality reduction.\n",
    "\n",
    "- Preprocessing for supervised learning : simplifying, reduction and cleaning of data for subsequent machine learning algorithms as this speeds up training processes\n",
    "\n",
    "High dimensional datasets are at risk of being very sparse i.e, most training instances are likely to be far away from each other meaning that any new instance will likely be far away from any training instance, making predictions much less reliable in lower dimensions sicne they will be based on much larger extrapolations. The more dimensions a training set has, the greater the risk of overfitting it. Theoretically speaking, the solution to dimensionality could be to increase the size of the training set to reach a sufficient density of training instances, unfortunately, in practise, the number of training instances required to reach a given density grows exponentially with the number of dimensions."
   ]
  },
  {
   "cell_type": "markdown",
   "metadata": {},
   "source": [
    "Main Approaches to Dimensionality reduction are:\n",
    "\n",
    "- **Projection** - involves projecting training instances to a much lower dimensional subspace of the high dimensional subspace.\n",
    "\n",
    "- **Manifold Learning**- is based on the manifold hypothesis that states that high dimensional data tend to lie in the vicinity of a low dimensional manifold or the data generating distribution is assumed to cocnentrate near regions of low dimensionality.Manifold learning seeks a differential algebraic structure in the state space to be inferred from teh sampled data point clouds."
   ]
  },
  {
   "cell_type": "markdown",
   "metadata": {},
   "source": [
    "### Principal Component Analysis"
   ]
  },
  {
   "cell_type": "markdown",
   "metadata": {},
   "source": [
    "First identifies the hyperplane that lies clost to a  linear subspace of the high dimensional space and then projects the data onto it(the axis that preserves the maximum amount of variance, leading to loss of the least amount of information or the axis that minimizes the the mean squared distance between the original dataset and its projection onto that axis).\n",
    "\n",
    "The principal component of a training set is found through Singular Value Decomposition. Singular Value Decomposition of a matrix is the factorization of A into the product of three matrices $A = UDV^T$ where teh columns of U and V are orthornomal and the matrix D is diagonal with positive real entries.\n",
    "\n",
    "$$ V^T = ( c_1 c_2...  .c_n)$$"
   ]
  },
  {
   "cell_type": "code",
   "execution_count": 2,
   "metadata": {
    "collapsed": true
   },
   "outputs": [],
   "source": [
    "import warnings; warnings.simplefilter(\"ignore\")\n",
    "#importing important libraries\n",
    "%matplotlib inline\n",
    "import matplotlib.pyplot as plt\n",
    "import seaborn as sns\n",
    "import numpy as np\n",
    "import pandas as pd\n",
    "import scipy.stats as stats\n",
    "import statsmodels.formula.api as  sm\n",
    "from statsmodels.formula.api import ols\n",
    "from statsmodels.stats.anova import anova_lm\n",
    "import csv\n",
    "\n",
    "# datafile upload and data preparation\n",
    "df = pd.read_csv(\"diffreport3.csv\", sep= \",\")\n",
    "\n",
    "d1 = df.drop(\"name\", axis = 1)\n",
    "d2 = d1.drop(\"isotopes\", axis = 1)\n",
    "d3 = d2.drop(\"adduct\", axis = 1)\n",
    "d4 = d3.drop(\"tstat\", axis = 1)\n",
    "d5 = d4.drop(\"pvalue\", axis = 1)\n",
    "d6 = d5.drop(\"fold\", axis = 1)\n",
    "d7 = d6.drop(d6.columns[0], axis = 1)\n",
    "d8 = d7.drop(\"npeaks\", axis = 1)\n",
    "d9 = d8.drop(\"Eta6\", axis = 1)\n",
    "d10 = d9.drop(\"Eta8\", axis = 1)\n",
    "columns = ['Eta6_0', 'Eta6_2', 'Eta6_3', 'Eta8.1', 'Eta82', 'Eta83', 'Seq_ID']\n",
    "df1 = pd.DataFrame(d10, columns = columns)\n",
    "\n",
    "#making a smaller dataset for test purposes\n",
    "df1 = df1[0:200]\n",
    "\n",
    "# creation of train and testing sets\n",
    "\n",
    "def get_train_test(df, y_col, x_cols, ratio):\n",
    "\n",
    "    mask = np.random.rand(len(df)) > ratio\n",
    "    df_train = df[mask]\n",
    "    df_test = df[~mask]\n",
    "       \n",
    "    Y_train = df_train[y_col].values\n",
    "    Y_test = df_test[y_col].values\n",
    "    X_train = df_train[x_cols].values\n",
    "    X_test = df_test[x_cols].values\n",
    "    return df_train, df_test, X_train, Y_train, X_test, Y_test\n",
    " \n",
    "y_col = 'Seq_ID'\n",
    "x_cols = list(df1.columns.values)\n",
    "x_cols.remove(y_col)\n",
    " \n",
    "train_test_ratio = 0.7\n",
    "df_train, df_test, X_train, Y_train, X_test, Y_test = get_train_test(df1, y_col, x_cols, train_test_ratio)"
   ]
  },
  {
   "cell_type": "code",
   "execution_count": 8,
   "metadata": {},
   "outputs": [],
   "source": [
    "# Singular Value Decomposition via Numpy\n",
    "\n",
    "X_centered = X_train -X_train.mean(axis = 0)\n",
    "U, s, V = np.linalg.svd(X_centered)\n",
    "c1 = V.T[:, 0]\n",
    "c2 = V.T[:,1]"
   ]
  },
  {
   "cell_type": "markdown",
   "metadata": {},
   "source": [
    "Projecting the training set down to d dimensions\n",
    "\n",
    "$$X_{d-proj} = X.W_d$$"
   ]
  },
  {
   "cell_type": "code",
   "execution_count": 9,
   "metadata": {},
   "outputs": [],
   "source": [
    "W2 = V.T[:, :2]\n",
    "X2D= X_centered.dot(W2)\n",
    "\n",
    "from sklearn.decomposition import PCA\n",
    "\n",
    "pca = PCA(n_components = 2)\n",
    "X2D = pca.fit_transform(X_train)"
   ]
  },
  {
   "cell_type": "code",
   "execution_count": 12,
   "metadata": {},
   "outputs": [
    {
     "data": {
      "image/png": "[encoded data removed]",
      "text/plain": [
       "<matplotlib.figure.Figure at 0x1f61fd65668>"
      ]
     },
     "metadata": {},
     "output_type": "display_data"
    }
   ],
   "source": [
    "# the following code computes PCA without reducing dimensionality and then computes the minimum number of dimensions required to preserve 95% of the training sets variance\n",
    "\n",
    "pca= PCA()\n",
    "pca.fit(X_train)\n",
    "cumsum = np.cumsum(pca.explained_variance_ratio_)\n",
    "d = np.argmax(cumsum >= 0.95) + 1\n",
    "\n",
    "pca = PCA(n_components = 0.95)\n",
    "X_reduced = pca.fit_transform(X_train)\n",
    "\n",
    "#plot the number of dimensions \n",
    "\n",
    "plt.plot(cumsum)\n",
    "plt.show()"
   ]
  },
  {
   "cell_type": "markdown",
   "metadata": {},
   "source": [
    "**Reconstruction Error**- is the mean squared distance between the original data and the reconstructed data (compressed and then decompressed) "
   ]
  },
  {
   "cell_type": "code",
   "execution_count": 14,
   "metadata": {},
   "outputs": [],
   "source": [
    "pca = PCA(n_components = 3)\n",
    "X_reduced = pca.fit_transform(X_train)\n",
    "X_recovered = pca.inverse_transform(X_reduced)"
   ]
  },
  {
   "cell_type": "markdown",
   "metadata": {},
   "source": [
    "PCA Inverse transformation, back to the original number of dimensions\n",
    "\n",
    "$$X_{recovered} = X_{d_proj} * W_d^T$$\n",
    "\n",
    "Incremental PCA - splits the training set into mini-batches and then sequentially applies PCA, avoiding the need to load the whole data set in memory in order to run the SVD Algorithm"
   ]
  },
  {
   "cell_type": "code",
   "execution_count": null,
   "metadata": {},
   "outputs": [],
   "source": [
    "from sklearn.decomposition import IncrementalPCA\n",
    "\n",
    "n_batches= 100\n",
    "inc_pca = IncrementalPCA(n_components = 2)\n",
    "for X_batch in np.array_split(X_train, n_batches):\n",
    "    inc_pca.partial_fit(X_batch)\n",
    "\n",
    "    X_reduced = inc_pca.transform(X_train)\n",
    "    \n",
    "#alternatively, one could use  Numpy's memmap class which allows one to manipulate a large array stored in a binary file\n",
    "\n",
    "X_mm = np.memmap(filename, dtype = \"float32\", mode = \"readonly\", shape = (m, n))\n",
    "\n",
    "batch_size = m // n_batches\n",
    "inc_pca = IncrementalPCA(n_components = 2, batch_size = batch_size)\n",
    "inc_pca.fit(X_mm)\n",
    "\n",
    "# Randomized PCA\n",
    "\n",
    "rnd_pca = PCA(n_components = 3, svd_solver = \"randomized\")\n",
    "X_reduced = rnd_pca.fit_transform(X_train)"
   ]
  },
  {
   "cell_type": "markdown",
   "metadata": {},
   "source": [
    "### Kernel PCA"
   ]
  },
  {
   "cell_type": "markdown",
   "metadata": {},
   "source": [
    "A linear decision boundary in the high dimensional feature space corresponds to a complex non-linear decision boundary in the original space. Kernel PCA allows one to make complex non-linear projections for dimensionality reduction and is perfect for preserving clusters of instances after projection."
   ]
  },
  {
   "cell_type": "code",
   "execution_count": 19,
   "metadata": {
    "collapsed": true
   },
   "outputs": [],
   "source": [
    "from sklearn.decomposition import KernelPCA\n",
    "\n",
    "rbf_pca = KernelPCA(n_components = 2, kernel = \"rbf\", gamma = 0.04)\n",
    "X_reduced = rbf_pca.fit_transform(X_train)"
   ]
  },
  {
   "cell_type": "code",
   "execution_count": null,
   "metadata": {},
   "outputs": [],
   "source": [
    "# Using GridSearch to find the best kernel and gamma values\n",
    "\n",
    "from sklearn.model_selection import GridSearchCV\n",
    "from sklearn.linear_model import LogisticRegression\n",
    "from sklearn.pipeline import Pipeline\n",
    "\n",
    "clf= Pipeline([\n",
    "    (\"kpca\", KernelPCA(n_components = 2)),\n",
    "    (\"log_reg\", LogisticRegression())\n",
    "])\n",
    "\n",
    "param_grid = [{\n",
    "            \"kpca__gamma\":np.linspace(0.03, 0.05, 10),\n",
    "            \"kpca__kernel\":[\"rbf\", \"sigmoid\"]\n",
    "}]\n",
    "\n",
    "grid_search = GridSearchCV(clf,param_grid, cv = 3)\n",
    "grid_search.fit(X_train,Y_train)\n",
    "print(grid_search.best_params_)"
   ]
  },
  {
   "cell_type": "code",
   "execution_count": 23,
   "metadata": {},
   "outputs": [
    {
     "data": {
      "text/plain": [
       "93408862238397904.0"
      ]
     },
     "execution_count": 23,
     "metadata": {},
     "output_type": "execute_result"
    }
   ],
   "source": [
    "# reconstruction pre-image\n",
    "\n",
    "rbf_pca = KernelPCA(n_components = 2, kernel = \"rbf\", gamma = 0.043,\n",
    "                   fit_inverse_transform = True)\n",
    "X_reduced = rbf_pca.fit_transform(X_train)\n",
    "X_preimage = rbf_pca.inverse_transform(X_reduced)\n",
    "\n",
    "#computing reconstruction image\n",
    "\n",
    "from sklearn.metrics import mean_squared_error\n",
    "mean_squared_error(X_train, X_preimage)"
   ]
  },
  {
   "cell_type": "markdown",
   "metadata": {},
   "source": [
    "**Locally Linear Embedding** - is a manifold learning  eigenvector method for non linear dimensionality reduction that computes low dimensional, neighbourhood preserving embeddings of high dimensional inputs.Unlike clustering, LLE maps its inputs into a single global coordinate system of lower dimensionality and its optimizations do not involve local minima.\n",
    "\n",
    "*Step 1: Linearly modelling local relationships*\n",
    "$$ \\hat{W} = argmin_W \\sum\\limits_{i =1} ^{m} \\lvert\\lvert x^{(i)}\\sum\\limits_{j =1} ^{m}\\hat{w}_{i, j} z^{(j)}\\rvert\\rvert^2$$ \n",
    "\n",
    "*Reducing dimensionality while preserving relationships*\n",
    "\n",
    "$$ \\hat{W} = argmin_Z\\sum\\limits_{i =1} ^{m} \\lvert\\lvert z^{(i)} \\sum\\limits_{j =1} ^{m}\\hat{w}_{i, j} z^{(j)}\\rvert\\rvert^2$$"
   ]
  },
  {
   "cell_type": "code",
   "execution_count": 25,
   "metadata": {},
   "outputs": [],
   "source": [
    "from sklearn.manifold import LocallyLinearEmbedding\n",
    "\n",
    "lle = LocallyLinearEmbedding(n_components = 2, n_neighbors = 10)\n",
    "X_reduced = lle.fit_transform(X_train)"
   ]
  },
  {
   "cell_type": "markdown",
   "metadata": {},
   "source": [
    "**Multidimensional Scaling** - computes embeddings that attempt to preserve pairwise distances or generalized disparities between data points.\n",
    "\n",
    "**Isomap ** - computes embeddings by creating a graph that connects each instance to its nearest neighbours, then reduces dimensionality while trying to preserve geodesic distances between instances.\n",
    "\n",
    "**t-Distributed Stochastic Neighbour Embedding** - encodes  small neighbourhood relationships in the high dimensional space and in the embedding as probability distributions. The embeddings are defined via an iterative minimization of the loss of information when placing the point in the embedding.\n",
    "\n",
    "**Linear Discriminant Analysis** - is a learning algorithm that elucidates the most discriminant axes between classes and uses the axes to define a hyperplane onto which  to project the data, keeping classes as far apart as possible.\n"
   ]
  }
 ],
 "metadata": {
  "kernelspec": {
   "display_name": "Python 3",
   "language": "python",
   "name": "python3"
  },
  "language_info": {
   "codemirror_mode": {
    "name": "ipython",
    "version": 3
   },
   "file_extension": ".py",
   "mimetype": "text/x-python",
   "name": "python",
   "nbconvert_exporter": "python",
   "pygments_lexer": "ipython3",
   "version": "3.6.3"
  }
 },
 "nbformat": 4,
 "nbformat_minor": 2
}

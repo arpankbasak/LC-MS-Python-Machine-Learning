{
 "cells": [
  {
   "cell_type": "markdown",
   "metadata": {},
   "source": [
    "A computer program is said to learn from experience E with respect to some task T and some performance measure P, if its performance on T, as measured by P, improves with experience E.\n",
    "Data mining is the use of machine learning techniques to dig into large amounts of data to help discover patterns that are not immediately apparent.\n",
    "\n",
    "Advantages of machine learning include:\n",
    "- it can work on problems  for which existing solutions require a lot of hand-tuning or long lists of rules.\n",
    "- can be used to find a solution for which traditional approaches cannot elucidate\n",
    "- can adapt to flactuating  environments\n",
    "- is great for getting insights about complex problems and large amounts of data"
   ]
  },
  {
   "cell_type": "markdown",
   "metadata": {},
   "source": [
    "Supervised/Unsupervised Machine Learning\n",
    "Supervised learning - the training data contains labels/desired solutions(e.g Random Forest, Neural Networks, Regression)\n",
    "Unsupervised learning -the training data does not contain labels/desired solutions\n",
    "- Unsupervised Clustering (k-means, Hierarchical Clustering, Expectation Maximization)\n",
    "- Visualization and Dimensionality Reduction (t-distributed Stochastic Neighbour Embedding, PCA, Locally Linear embedding)\n",
    "- Association rule learning (Apriori, Eclat)\n",
    "\n",
    "An attribute is a data type (e.g Mileage on a car) and a feature means an attribute plus its value (e.g Mileage = 15,000km). Dimensionality reduction merges features that correlate into one in a process called feature extraction.\n",
    "\n",
    "Semisupervised Learning - combines the clustering abilities of an unsupervised algorithm with a supervised algorithm.\n",
    "\n",
    "Reinforcement Learning - the learning system, called an agent, observes the environment, selects and performs actions and gets rewards/penalties depending on the strategy/policy. The goal is to maximize on the number of rewards aquired over time.\n",
    "\n"
   ]
  },
  {
   "cell_type": "markdown",
   "metadata": {},
   "source": [
    "Batch Learning - the system is incapable of learning increamentally and so it must be trained using all the available data.\n",
    "Offline Learning - is a system that is trained and launched into production and runs without learning anymore and just applies what it has learned.\n",
    "Online Learning - system is trained incrementally by feeding it data instances sequentially .\n",
    "Out of Core Learning - is for extremely large data sets whereby the algorithm loads part of the data, runs a training step and                          repeats the processuntil it has run on all the data."
   ]
  },
  {
   "cell_type": "markdown",
   "metadata": {},
   "source": [
    "Generalization - for a given number of training samples, the system needs to be able to generalize to examples it has never seen before. There are two approaches to generalization:\n",
    "\n",
    "Instance(memory) based learning - the system learns the examples and generilizes by comparing new problems with instances seen in training that have been stored in memory.\n",
    "\n",
    "Model Based Learning - involves constructing a model based on examples and then using the model to make predictions for future generalizations\n"
   ]
  },
  {
   "cell_type": "markdown",
   "metadata": {},
   "source": [
    "Feature engineering-involves coming up with the best features to train on and is based on three steps:\n",
    "\n",
    "Feature selection - selecting the most useful features to train on amoung existing features\n",
    "Feature extraction - combining existing features to produce a more useful one\n",
    "Feature creation - creating new features by gathering data\n"
   ]
  },
  {
   "cell_type": "markdown",
   "metadata": {},
   "source": [
    "Overfitting occurs when the model is too complex relative tot he amount of noise in the training data.The solutions are:\n",
    "- simplify the model by selecting one with fewer parameters\n",
    "- gather more training data\n",
    "- reduce the noise in the training data\n",
    "Regularization is the process of constraining a model to make it simpler and  to reduce the risk of overfitting.\n",
    "Hyperparameter is a parameter of the learning algorithm itself and not the model and is set prior to training and remains constant during training.\n",
    "\n",
    "Underfitting - occurs when the model is too simple to learn the underlying structure of the data."
   ]
  },
  {
   "cell_type": "code",
   "execution_count": null,
   "metadata": {
    "collapsed": true
   },
   "outputs": [],
   "source": []
  }
 ],
 "metadata": {
  "kernelspec": {
   "display_name": "Python 3",
   "language": "python",
   "name": "python3"
  },
  "language_info": {
   "codemirror_mode": {
    "name": "ipython",
    "version": 3
   },
   "file_extension": ".py",
   "mimetype": "text/x-python",
   "name": "python",
   "nbconvert_exporter": "python",
   "pygments_lexer": "ipython3",
   "version": "3.6.3"
  }
 },
 "nbformat": 4,
 "nbformat_minor": 2
}
